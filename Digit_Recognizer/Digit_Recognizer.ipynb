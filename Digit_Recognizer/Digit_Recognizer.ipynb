{
  "cells": [
    {
      "cell_type": "code",
      "execution_count": null,
      "metadata": {
        "colab": {
          "base_uri": "https://localhost:8080/"
        },
        "id": "j50dxKqPrbwk",
        "outputId": "4e5c7509-863f-49c6-c350-1484c4201afd"
      },
      "outputs": [
        {
          "name": "stdout",
          "output_type": "stream",
          "text": [
            "Downloading digit-recognizer, 16054568 bytes compressed\n",
            "[==================================================] 16054568 bytes downloaded\n",
            "Downloaded and uncompressed: digit-recognizer\n",
            "Data source import complete.\n"
          ]
        }
      ],
      "source": [
        "# IMPORTANT: RUN THIS CELL IN ORDER TO IMPORT YOUR KAGGLE DATA SOURCES\n",
        "# TO THE CORRECT LOCATION (/kaggle/input) IN YOUR NOTEBOOK,\n",
        "# THEN FEEL FREE TO DELETE THIS CELL.\n",
        "\n",
        "import os\n",
        "import sys\n",
        "from tempfile import NamedTemporaryFile\n",
        "from urllib.request import urlopen\n",
        "from urllib.parse import unquote, urlparse\n",
        "from urllib.error import HTTPError\n",
        "from zipfile import ZipFile\n",
        "import tarfile\n",
        "import shutil\n",
        "\n",
        "CHUNK_SIZE = 40960\n",
        "DATA_SOURCE_MAPPING = 'digit-recognizer:https%3A%2F%2Fstorage.googleapis.com%2Fkaggle-competitions-data%2Fkaggle-v2%2F3004%2F861823%2Fbundle%2Farchive.zip%3FX-Goog-Algorithm%3DGOOG4-RSA-SHA256%26X-Goog-Credential%3Dgcp-kaggle-com%2540kaggle-161607.iam.gserviceaccount.com%252F20240215%252Fauto%252Fstorage%252Fgoog4_request%26X-Goog-Date%3D20240215T213036Z%26X-Goog-Expires%3D259200%26X-Goog-SignedHeaders%3Dhost%26X-Goog-Signature%3D50380797981b3dc5562d21e6a3c3f0855c550488c1ed13c05a1c56ffc0ba46e5ffc638bef24d4efc6fd3706261e7e26e828873bb2c9c6bb86b1c4a8285954b64f01b0db6090d64bb2bd2f3b2366811ba66d110772252823372890905669f96adf090613a0877a54f92f2f9d62a24cbb84e59e1d85f3c402c0592bb899008dc20233072816255b6b5586ce1bee4365ba238ec477ccffad5dbf4ce2e7fe7a93bc117799ffdad6d7e216e3f92b64d3b5a3bc7abbd5d2a5902e7ef49f6c6065641c44ebc79c7ac622ee488b7e23f1e2e54464e514697d5a6524477bdcb334500e15431a0fe533e91dee30fcc8220787bdc9edba8bf490b0afbea0a30719984b6e04e'\n",
        "\n",
        "KAGGLE_INPUT_PATH='/kaggle/input'\n",
        "KAGGLE_WORKING_PATH='/kaggle/working'\n",
        "KAGGLE_SYMLINK='kaggle'\n",
        "\n",
        "!umount /kaggle/input/ 2> /dev/null\n",
        "shutil.rmtree('/kaggle/input', ignore_errors=True)\n",
        "os.makedirs(KAGGLE_INPUT_PATH, 0o777, exist_ok=True)\n",
        "os.makedirs(KAGGLE_WORKING_PATH, 0o777, exist_ok=True)\n",
        "\n",
        "try:\n",
        "  os.symlink(KAGGLE_INPUT_PATH, os.path.join(\"..\", 'input'), target_is_directory=True)\n",
        "except FileExistsError:\n",
        "  pass\n",
        "try:\n",
        "  os.symlink(KAGGLE_WORKING_PATH, os.path.join(\"..\", 'working'), target_is_directory=True)\n",
        "except FileExistsError:\n",
        "  pass\n",
        "\n",
        "for data_source_mapping in DATA_SOURCE_MAPPING.split(','):\n",
        "    directory, download_url_encoded = data_source_mapping.split(':')\n",
        "    download_url = unquote(download_url_encoded)\n",
        "    filename = urlparse(download_url).path\n",
        "    destination_path = os.path.join(KAGGLE_INPUT_PATH, directory)\n",
        "    try:\n",
        "        with urlopen(download_url) as fileres, NamedTemporaryFile() as tfile:\n",
        "            total_length = fileres.headers['content-length']\n",
        "            print(f'Downloading {directory}, {total_length} bytes compressed')\n",
        "            dl = 0\n",
        "            data = fileres.read(CHUNK_SIZE)\n",
        "            while len(data) > 0:\n",
        "                dl += len(data)\n",
        "                tfile.write(data)\n",
        "                done = int(50 * dl / int(total_length))\n",
        "                sys.stdout.write(f\"\\r[{'=' * done}{' ' * (50-done)}] {dl} bytes downloaded\")\n",
        "                sys.stdout.flush()\n",
        "                data = fileres.read(CHUNK_SIZE)\n",
        "            if filename.endswith('.zip'):\n",
        "              with ZipFile(tfile) as zfile:\n",
        "                zfile.extractall(destination_path)\n",
        "            else:\n",
        "              with tarfile.open(tfile.name) as tarfile:\n",
        "                tarfile.extractall(destination_path)\n",
        "            print(f'\\nDownloaded and uncompressed: {directory}')\n",
        "    except HTTPError as e:\n",
        "        print(f'Failed to load (likely expired) {download_url} to path {destination_path}')\n",
        "        continue\n",
        "    except OSError as e:\n",
        "        print(f'Failed to load {download_url} to path {destination_path}')\n",
        "        continue\n",
        "\n",
        "print('Data source import complete.')\n"
      ]
    },
    {
      "cell_type": "markdown",
      "metadata": {},
      "source": [
        "# Digit Recognizer\n",
        "\n",
        "Link to the Kaggle Competition: https://www.kaggle.com/competitions/digit-recognizer"
      ]
    },
    {
      "cell_type": "code",
      "execution_count": null,
      "metadata": {
        "_cell_guid": "b1076dfc-b9ad-4769-8c92-a6c4dae69d19",
        "_uuid": "8f2839f25d086af736a60e9eeb907d3b93b6e0e5",
        "colab": {
          "base_uri": "https://localhost:8080/"
        },
        "execution": {
          "iopub.execute_input": "2024-02-15T21:22:47.021026Z",
          "iopub.status.busy": "2024-02-15T21:22:47.018377Z",
          "iopub.status.idle": "2024-02-15T21:22:47.029983Z",
          "shell.execute_reply": "2024-02-15T21:22:47.028855Z",
          "shell.execute_reply.started": "2024-02-15T21:22:47.020983Z"
        },
        "id": "avUSmOlhrbwm",
        "outputId": "e833ee8a-2012-4a84-d682-707a8e4d9783",
        "trusted": true
      },
      "outputs": [
        {
          "name": "stdout",
          "output_type": "stream",
          "text": [
            "/kaggle/input/digit-recognizer/sample_submission.csv\n",
            "/kaggle/input/digit-recognizer/train.csv\n",
            "/kaggle/input/digit-recognizer/test.csv\n"
          ]
        }
      ],
      "source": [
        "# This Python 3 environment comes with many helpful analytics libraries installed\n",
        "# It is defined by the kaggle/python Docker image: https://github.com/kaggle/docker-python\n",
        "# For example, here's several helpful packages to load\n",
        "\n",
        "import numpy as np # linear algebra\n",
        "import pandas as pd # data processing, CSV file I/O (e.g. pd.read_csv)\n",
        "\n",
        "# Input data files are available in the read-only \"../input/\" directory\n",
        "# For example, running this (by clicking run or pressing Shift+Enter) will list all files under the input directory\n",
        "\n",
        "import os\n",
        "for dirname, _, filenames in os.walk('/kaggle/input'):\n",
        "    for filename in filenames:\n",
        "        print(os.path.join(dirname, filename))\n",
        "\n",
        "# You can write up to 20GB to the current directory (/kaggle/working/) that gets preserved as output when you create a version using \"Save & Run All\"\n",
        "# You can also write temporary files to /kaggle/temp/, but they won't be saved outside of the current session"
      ]
    },
    {
      "cell_type": "code",
      "execution_count": null,
      "metadata": {
        "execution": {
          "iopub.execute_input": "2024-02-15T21:22:52.061099Z",
          "iopub.status.busy": "2024-02-15T21:22:52.060599Z",
          "iopub.status.idle": "2024-02-15T21:22:58.754748Z",
          "shell.execute_reply": "2024-02-15T21:22:58.753701Z",
          "shell.execute_reply.started": "2024-02-15T21:22:52.061062Z"
        },
        "id": "14zIv52wrbwn",
        "outputId": "5bb1d601-0ffd-4357-c0cf-8576e50c2602",
        "trusted": true
      },
      "outputs": [
        {
          "data": {
            "text/html": [
              "<div>\n",
              "<style scoped>\n",
              "    .dataframe tbody tr th:only-of-type {\n",
              "        vertical-align: middle;\n",
              "    }\n",
              "\n",
              "    .dataframe tbody tr th {\n",
              "        vertical-align: top;\n",
              "    }\n",
              "\n",
              "    .dataframe thead th {\n",
              "        text-align: right;\n",
              "    }\n",
              "</style>\n",
              "<table border=\"1\" class=\"dataframe\">\n",
              "  <thead>\n",
              "    <tr style=\"text-align: right;\">\n",
              "      <th></th>\n",
              "      <th>label</th>\n",
              "      <th>pixel0</th>\n",
              "      <th>pixel1</th>\n",
              "      <th>pixel2</th>\n",
              "      <th>pixel3</th>\n",
              "      <th>pixel4</th>\n",
              "      <th>pixel5</th>\n",
              "      <th>pixel6</th>\n",
              "      <th>pixel7</th>\n",
              "      <th>pixel8</th>\n",
              "      <th>...</th>\n",
              "      <th>pixel774</th>\n",
              "      <th>pixel775</th>\n",
              "      <th>pixel776</th>\n",
              "      <th>pixel777</th>\n",
              "      <th>pixel778</th>\n",
              "      <th>pixel779</th>\n",
              "      <th>pixel780</th>\n",
              "      <th>pixel781</th>\n",
              "      <th>pixel782</th>\n",
              "      <th>pixel783</th>\n",
              "    </tr>\n",
              "  </thead>\n",
              "  <tbody>\n",
              "    <tr>\n",
              "      <th>0</th>\n",
              "      <td>1</td>\n",
              "      <td>0</td>\n",
              "      <td>0</td>\n",
              "      <td>0</td>\n",
              "      <td>0</td>\n",
              "      <td>0</td>\n",
              "      <td>0</td>\n",
              "      <td>0</td>\n",
              "      <td>0</td>\n",
              "      <td>0</td>\n",
              "      <td>...</td>\n",
              "      <td>0</td>\n",
              "      <td>0</td>\n",
              "      <td>0</td>\n",
              "      <td>0</td>\n",
              "      <td>0</td>\n",
              "      <td>0</td>\n",
              "      <td>0</td>\n",
              "      <td>0</td>\n",
              "      <td>0</td>\n",
              "      <td>0</td>\n",
              "    </tr>\n",
              "    <tr>\n",
              "      <th>1</th>\n",
              "      <td>0</td>\n",
              "      <td>0</td>\n",
              "      <td>0</td>\n",
              "      <td>0</td>\n",
              "      <td>0</td>\n",
              "      <td>0</td>\n",
              "      <td>0</td>\n",
              "      <td>0</td>\n",
              "      <td>0</td>\n",
              "      <td>0</td>\n",
              "      <td>...</td>\n",
              "      <td>0</td>\n",
              "      <td>0</td>\n",
              "      <td>0</td>\n",
              "      <td>0</td>\n",
              "      <td>0</td>\n",
              "      <td>0</td>\n",
              "      <td>0</td>\n",
              "      <td>0</td>\n",
              "      <td>0</td>\n",
              "      <td>0</td>\n",
              "    </tr>\n",
              "    <tr>\n",
              "      <th>2</th>\n",
              "      <td>1</td>\n",
              "      <td>0</td>\n",
              "      <td>0</td>\n",
              "      <td>0</td>\n",
              "      <td>0</td>\n",
              "      <td>0</td>\n",
              "      <td>0</td>\n",
              "      <td>0</td>\n",
              "      <td>0</td>\n",
              "      <td>0</td>\n",
              "      <td>...</td>\n",
              "      <td>0</td>\n",
              "      <td>0</td>\n",
              "      <td>0</td>\n",
              "      <td>0</td>\n",
              "      <td>0</td>\n",
              "      <td>0</td>\n",
              "      <td>0</td>\n",
              "      <td>0</td>\n",
              "      <td>0</td>\n",
              "      <td>0</td>\n",
              "    </tr>\n",
              "    <tr>\n",
              "      <th>3</th>\n",
              "      <td>4</td>\n",
              "      <td>0</td>\n",
              "      <td>0</td>\n",
              "      <td>0</td>\n",
              "      <td>0</td>\n",
              "      <td>0</td>\n",
              "      <td>0</td>\n",
              "      <td>0</td>\n",
              "      <td>0</td>\n",
              "      <td>0</td>\n",
              "      <td>...</td>\n",
              "      <td>0</td>\n",
              "      <td>0</td>\n",
              "      <td>0</td>\n",
              "      <td>0</td>\n",
              "      <td>0</td>\n",
              "      <td>0</td>\n",
              "      <td>0</td>\n",
              "      <td>0</td>\n",
              "      <td>0</td>\n",
              "      <td>0</td>\n",
              "    </tr>\n",
              "    <tr>\n",
              "      <th>4</th>\n",
              "      <td>0</td>\n",
              "      <td>0</td>\n",
              "      <td>0</td>\n",
              "      <td>0</td>\n",
              "      <td>0</td>\n",
              "      <td>0</td>\n",
              "      <td>0</td>\n",
              "      <td>0</td>\n",
              "      <td>0</td>\n",
              "      <td>0</td>\n",
              "      <td>...</td>\n",
              "      <td>0</td>\n",
              "      <td>0</td>\n",
              "      <td>0</td>\n",
              "      <td>0</td>\n",
              "      <td>0</td>\n",
              "      <td>0</td>\n",
              "      <td>0</td>\n",
              "      <td>0</td>\n",
              "      <td>0</td>\n",
              "      <td>0</td>\n",
              "    </tr>\n",
              "    <tr>\n",
              "      <th>...</th>\n",
              "      <td>...</td>\n",
              "      <td>...</td>\n",
              "      <td>...</td>\n",
              "      <td>...</td>\n",
              "      <td>...</td>\n",
              "      <td>...</td>\n",
              "      <td>...</td>\n",
              "      <td>...</td>\n",
              "      <td>...</td>\n",
              "      <td>...</td>\n",
              "      <td>...</td>\n",
              "      <td>...</td>\n",
              "      <td>...</td>\n",
              "      <td>...</td>\n",
              "      <td>...</td>\n",
              "      <td>...</td>\n",
              "      <td>...</td>\n",
              "      <td>...</td>\n",
              "      <td>...</td>\n",
              "      <td>...</td>\n",
              "      <td>...</td>\n",
              "    </tr>\n",
              "    <tr>\n",
              "      <th>41995</th>\n",
              "      <td>0</td>\n",
              "      <td>0</td>\n",
              "      <td>0</td>\n",
              "      <td>0</td>\n",
              "      <td>0</td>\n",
              "      <td>0</td>\n",
              "      <td>0</td>\n",
              "      <td>0</td>\n",
              "      <td>0</td>\n",
              "      <td>0</td>\n",
              "      <td>...</td>\n",
              "      <td>0</td>\n",
              "      <td>0</td>\n",
              "      <td>0</td>\n",
              "      <td>0</td>\n",
              "      <td>0</td>\n",
              "      <td>0</td>\n",
              "      <td>0</td>\n",
              "      <td>0</td>\n",
              "      <td>0</td>\n",
              "      <td>0</td>\n",
              "    </tr>\n",
              "    <tr>\n",
              "      <th>41996</th>\n",
              "      <td>1</td>\n",
              "      <td>0</td>\n",
              "      <td>0</td>\n",
              "      <td>0</td>\n",
              "      <td>0</td>\n",
              "      <td>0</td>\n",
              "      <td>0</td>\n",
              "      <td>0</td>\n",
              "      <td>0</td>\n",
              "      <td>0</td>\n",
              "      <td>...</td>\n",
              "      <td>0</td>\n",
              "      <td>0</td>\n",
              "      <td>0</td>\n",
              "      <td>0</td>\n",
              "      <td>0</td>\n",
              "      <td>0</td>\n",
              "      <td>0</td>\n",
              "      <td>0</td>\n",
              "      <td>0</td>\n",
              "      <td>0</td>\n",
              "    </tr>\n",
              "    <tr>\n",
              "      <th>41997</th>\n",
              "      <td>7</td>\n",
              "      <td>0</td>\n",
              "      <td>0</td>\n",
              "      <td>0</td>\n",
              "      <td>0</td>\n",
              "      <td>0</td>\n",
              "      <td>0</td>\n",
              "      <td>0</td>\n",
              "      <td>0</td>\n",
              "      <td>0</td>\n",
              "      <td>...</td>\n",
              "      <td>0</td>\n",
              "      <td>0</td>\n",
              "      <td>0</td>\n",
              "      <td>0</td>\n",
              "      <td>0</td>\n",
              "      <td>0</td>\n",
              "      <td>0</td>\n",
              "      <td>0</td>\n",
              "      <td>0</td>\n",
              "      <td>0</td>\n",
              "    </tr>\n",
              "    <tr>\n",
              "      <th>41998</th>\n",
              "      <td>6</td>\n",
              "      <td>0</td>\n",
              "      <td>0</td>\n",
              "      <td>0</td>\n",
              "      <td>0</td>\n",
              "      <td>0</td>\n",
              "      <td>0</td>\n",
              "      <td>0</td>\n",
              "      <td>0</td>\n",
              "      <td>0</td>\n",
              "      <td>...</td>\n",
              "      <td>0</td>\n",
              "      <td>0</td>\n",
              "      <td>0</td>\n",
              "      <td>0</td>\n",
              "      <td>0</td>\n",
              "      <td>0</td>\n",
              "      <td>0</td>\n",
              "      <td>0</td>\n",
              "      <td>0</td>\n",
              "      <td>0</td>\n",
              "    </tr>\n",
              "    <tr>\n",
              "      <th>41999</th>\n",
              "      <td>9</td>\n",
              "      <td>0</td>\n",
              "      <td>0</td>\n",
              "      <td>0</td>\n",
              "      <td>0</td>\n",
              "      <td>0</td>\n",
              "      <td>0</td>\n",
              "      <td>0</td>\n",
              "      <td>0</td>\n",
              "      <td>0</td>\n",
              "      <td>...</td>\n",
              "      <td>0</td>\n",
              "      <td>0</td>\n",
              "      <td>0</td>\n",
              "      <td>0</td>\n",
              "      <td>0</td>\n",
              "      <td>0</td>\n",
              "      <td>0</td>\n",
              "      <td>0</td>\n",
              "      <td>0</td>\n",
              "      <td>0</td>\n",
              "    </tr>\n",
              "  </tbody>\n",
              "</table>\n",
              "<p>42000 rows × 785 columns</p>\n",
              "</div>"
            ],
            "text/plain": [
              "       label  pixel0  pixel1  pixel2  pixel3  pixel4  pixel5  pixel6  pixel7  \\\n",
              "0          1       0       0       0       0       0       0       0       0   \n",
              "1          0       0       0       0       0       0       0       0       0   \n",
              "2          1       0       0       0       0       0       0       0       0   \n",
              "3          4       0       0       0       0       0       0       0       0   \n",
              "4          0       0       0       0       0       0       0       0       0   \n",
              "...      ...     ...     ...     ...     ...     ...     ...     ...     ...   \n",
              "41995      0       0       0       0       0       0       0       0       0   \n",
              "41996      1       0       0       0       0       0       0       0       0   \n",
              "41997      7       0       0       0       0       0       0       0       0   \n",
              "41998      6       0       0       0       0       0       0       0       0   \n",
              "41999      9       0       0       0       0       0       0       0       0   \n",
              "\n",
              "       pixel8  ...  pixel774  pixel775  pixel776  pixel777  pixel778  \\\n",
              "0           0  ...         0         0         0         0         0   \n",
              "1           0  ...         0         0         0         0         0   \n",
              "2           0  ...         0         0         0         0         0   \n",
              "3           0  ...         0         0         0         0         0   \n",
              "4           0  ...         0         0         0         0         0   \n",
              "...       ...  ...       ...       ...       ...       ...       ...   \n",
              "41995       0  ...         0         0         0         0         0   \n",
              "41996       0  ...         0         0         0         0         0   \n",
              "41997       0  ...         0         0         0         0         0   \n",
              "41998       0  ...         0         0         0         0         0   \n",
              "41999       0  ...         0         0         0         0         0   \n",
              "\n",
              "       pixel779  pixel780  pixel781  pixel782  pixel783  \n",
              "0             0         0         0         0         0  \n",
              "1             0         0         0         0         0  \n",
              "2             0         0         0         0         0  \n",
              "3             0         0         0         0         0  \n",
              "4             0         0         0         0         0  \n",
              "...         ...       ...       ...       ...       ...  \n",
              "41995         0         0         0         0         0  \n",
              "41996         0         0         0         0         0  \n",
              "41997         0         0         0         0         0  \n",
              "41998         0         0         0         0         0  \n",
              "41999         0         0         0         0         0  \n",
              "\n",
              "[42000 rows x 785 columns]"
            ]
          },
          "execution_count": 3,
          "metadata": {},
          "output_type": "execute_result"
        }
      ],
      "source": [
        "train = pd.read_csv(\"/kaggle/input/digit-recognizer/train.csv\")\n",
        "test = pd.read_csv(\"/kaggle/input/digit-recognizer/test.csv\")\n",
        "\n",
        "train"
      ]
    },
    {
      "cell_type": "code",
      "execution_count": null,
      "metadata": {
        "execution": {
          "iopub.execute_input": "2024-02-15T21:23:02.396321Z",
          "iopub.status.busy": "2024-02-15T21:23:02.395955Z",
          "iopub.status.idle": "2024-02-15T21:23:02.4038Z",
          "shell.execute_reply": "2024-02-15T21:23:02.402721Z",
          "shell.execute_reply.started": "2024-02-15T21:23:02.396291Z"
        },
        "id": "IXyoNjadrbwo",
        "trusted": true
      },
      "outputs": [],
      "source": [
        "import matplotlib.pyplot as plt                        # library to plot the digit\n",
        "\n",
        "def ploting_a_digit(line, label):                      # this function takes a line from our df and plots a digit\n",
        "    digit_array = line.to_numpy().reshape((28,28))     # transform the pixels into a 28x28 array\n",
        "    plt.title(\"Label: {}\".format(label))\n",
        "    fig = plt.imshow(digit_array, cmap='gist_gray')    # plot the Figure"
      ]
    },
    {
      "cell_type": "code",
      "execution_count": null,
      "metadata": {
        "execution": {
          "iopub.execute_input": "2024-02-15T21:23:08.405154Z",
          "iopub.status.busy": "2024-02-15T21:23:08.40477Z",
          "iopub.status.idle": "2024-02-15T21:23:08.693086Z",
          "shell.execute_reply": "2024-02-15T21:23:08.691931Z",
          "shell.execute_reply.started": "2024-02-15T21:23:08.405125Z"
        },
        "id": "1yrS34Tprbwp",
        "outputId": "bd0d815b-e9a8-41ee-cac6-cdcd15b3b7c3",
        "trusted": true
      },
      "outputs": [
        {
          "data": {
            "image/png": "[encoded data removed]",
            "text/plain": [
              "<Figure size 640x480 with 1 Axes>"
            ]
          },
          "metadata": {},
          "output_type": "display_data"
        }
      ],
      "source": [
        "from random import randint\n",
        "\n",
        "random_num = randint(0,train.shape[0]-1)                # train.shape[0] - 1 as randint is inclusive in both ends\n",
        "random_line = train.iloc[random_num,:]\n",
        "\n",
        "ploting_a_digit(random_line, random_line.pop('label'))  # ploting a random digit"
      ]
    },
    {
      "cell_type": "markdown",
      "metadata": {
        "id": "BOhQBbaqrbwq"
      },
      "source": [
        "## Digit Recognizer Using RandomForest (RF)\n",
        "\n",
        "In this project, I chose the Random Forest Classifier as the machine learning method to model the dataset of handwritten digits. This decision was informed by Random Forest's robustness and ability to handle non-linear data efficiently. Random Forest operates by constructing multiple decision trees during training time and outputting the class that is the mode of the classes (classification) of the individual trees. This ensemble method is effective for dealing with the complexities and nuances of handwriting, as it can capture the variations in digit representations through its multitude of trees.\n",
        "\n",
        "For the technical implementation, I used Python's scikit-learn library, a popular choice for machine learning due to its wide range of algorithms and simplicity in use. The dataset was first preprocessed using MinMaxScaler to normalize the pixel values to a range of 0 to 1, enhancing the algorithm's convergence speed and accuracy. No specific hyperparameters were initially selected for the Random Forest Classifier; the default settings were used, leveraging the simplicity and generally good baseline performance of scikit-learn's implementation. However, this approach allows for further experimentation and tuning, such as adjusting the number of trees in the forest (n_estimators) or the maximum depth of the trees, to improve model performance if necessary.\n",
        "\n",
        "Data splitting was performed using the train_test_split function, allocating 85% of the data for training and 15% for testing. This split provides a substantial training dataset to learn from while reserving a meaningful portion for evaluating the model's generalization capability to unseen data. The model's performance was assessed based on its accuracy score, which quantifies the proportion of correctly identified digits in the test set."
      ]
    },
    {
      "cell_type": "markdown",
      "metadata": {
        "id": "AxyL7zlHrbwr"
      },
      "source": [
        "### Case 1: Using the Full Training & Testing Dataset"
      ]
    },
    {
      "cell_type": "code",
      "execution_count": null,
      "metadata": {
        "execution": {
          "iopub.execute_input": "2024-02-15T21:25:53.62608Z",
          "iopub.status.busy": "2024-02-15T21:25:53.625689Z",
          "iopub.status.idle": "2024-02-15T21:25:54.541805Z",
          "shell.execute_reply": "2024-02-15T21:25:54.54085Z",
          "shell.execute_reply.started": "2024-02-15T21:25:53.62605Z"
        },
        "id": "j_Z4iMxzrbwr",
        "trusted": true
      },
      "outputs": [],
      "source": [
        "from sklearn.preprocessing import MinMaxScaler\n",
        "\n",
        "train_data = train.copy()\n",
        "\n",
        "scaler = MinMaxScaler()\n",
        "labels = train_data.pop('label')\n",
        "\n",
        "train_set = scaler.fit_transform(train_data)\n",
        "test_set = scaler.transform(test)"
      ]
    },
    {
      "cell_type": "code",
      "execution_count": null,
      "metadata": {
        "execution": {
          "iopub.execute_input": "2024-02-15T21:25:57.647682Z",
          "iopub.status.busy": "2024-02-15T21:25:57.647243Z",
          "iopub.status.idle": "2024-02-15T21:25:58.094084Z",
          "shell.execute_reply": "2024-02-15T21:25:58.092772Z",
          "shell.execute_reply.started": "2024-02-15T21:25:57.647637Z"
        },
        "id": "GOy6V8jtrbws",
        "trusted": true
      },
      "outputs": [],
      "source": [
        "from sklearn.model_selection import train_test_split\n",
        "\n",
        "# split our train data using sklearn tran_test_split so we can train our model and measure how good it is working.\n",
        "X_train, X_test, y_train, y_test = train_test_split(train_set, labels, test_size=0.15)   # our split will be test = 15% train = 85%"
      ]
    },
    {
      "cell_type": "code",
      "execution_count": null,
      "metadata": {
        "execution": {
          "iopub.execute_input": "2024-02-15T21:26:00.89521Z",
          "iopub.status.busy": "2024-02-15T21:26:00.894794Z",
          "iopub.status.idle": "2024-02-15T21:26:28.448637Z",
          "shell.execute_reply": "2024-02-15T21:26:28.44741Z",
          "shell.execute_reply.started": "2024-02-15T21:26:00.895178Z"
        },
        "id": "abU2f8pDrbwt",
        "outputId": "af504b25-29b1-42a3-b655-1b866e44a67f",
        "trusted": true
      },
      "outputs": [
        {
          "name": "stdout",
          "output_type": "stream",
          "text": [
            "Model Accuracy = 96.44%\n"
          ]
        }
      ],
      "source": [
        "from sklearn.ensemble import RandomForestClassifier\n",
        "from sklearn.metrics import accuracy_score, confusion_matrix, classification_report\n",
        "\n",
        "model = RandomForestClassifier()   # build our model\n",
        "model.fit(X_train,y_train)         # train our model\n",
        "\n",
        "y_pred = model.predict(X_test)\n",
        "model_score = accuracy_score(y_pred, y_test)\n",
        "print(\"Model Accuracy = {:.2f}%\".format(model_score*100))"
      ]
    },
    {
      "cell_type": "code",
      "execution_count": null,
      "metadata": {
        "execution": {
          "iopub.execute_input": "2024-02-15T21:26:57.107174Z",
          "iopub.status.busy": "2024-02-15T21:26:57.106779Z",
          "iopub.status.idle": "2024-02-15T21:26:57.367122Z",
          "shell.execute_reply": "2024-02-15T21:26:57.366005Z",
          "shell.execute_reply.started": "2024-02-15T21:26:57.107144Z"
        },
        "id": "SaTEPx3vrbwu",
        "outputId": "a7428297-dfc5-4b7d-8cfe-adc42711a86b",
        "trusted": true
      },
      "outputs": [
        {
          "data": {
            "image/png": "[encoded data removed]",
            "text/plain": [
              "<Figure size 640x480 with 1 Axes>"
            ]
          },
          "metadata": {},
          "output_type": "display_data"
        }
      ],
      "source": [
        "random_num = randint(0,test.shape[0]-1) # final_test.shape[0] - 1 as randint is inclusive in both ends\n",
        "random_line = test.iloc[random_num, :]\n",
        "\n",
        "final_pred = model.predict(random_line.to_numpy().reshape(1,-1)) #predict on a random sample, reshape because is a single sample\n",
        "\n",
        "ploting_a_digit(random_line, final_pred) #ploting a random prediction"
      ]
    },
    {
      "cell_type": "code",
      "execution_count": null,
      "metadata": {
        "id": "-ajZmHG35AK7"
      },
      "outputs": [],
      "source": [
        "model_pred = model.predict(test_set)     # predicting values\n",
        "sample_submission = pd.read_csv(\"../input/digit-recognizer/sample_submission.csv\", index_col='ImageId')\n",
        "sample_submission.Label = model_pred\n",
        "sample_submission.to_csv(\"model_predictions.csv\")"
      ]
    },
    {
      "cell_type": "markdown",
      "metadata": {
        "id": "uHbGHIcXrbwv"
      },
      "source": [
        "### Case 2: Using Half the Training/Testing Dataset"
      ]
    },
    {
      "cell_type": "code",
      "execution_count": null,
      "metadata": {
        "execution": {
          "iopub.execute_input": "2024-02-15T21:27:10.012835Z",
          "iopub.status.busy": "2024-02-15T21:27:10.012427Z",
          "iopub.status.idle": "2024-02-15T21:27:10.020408Z",
          "shell.execute_reply": "2024-02-15T21:27:10.019124Z",
          "shell.execute_reply.started": "2024-02-15T21:27:10.012802Z"
        },
        "id": "XvPB3HEBrbwv",
        "trusted": true
      },
      "outputs": [],
      "source": [
        "def split_data_half_per_label(df):\n",
        "    train_half = pd.DataFrame()\n",
        "    test_half = pd.DataFrame()\n",
        "\n",
        "    for label in range(10):  # For each label 0-9\n",
        "        label_df = df[df['label'] == label]\n",
        "        half_point = len(label_df) // 2  # Find the mid point\n",
        "\n",
        "        train_half = pd.concat([train_half, label_df.iloc[:half_point, :]])\n",
        "        test_half = pd.concat([test_half, label_df.iloc[half_point:, :]])\n",
        "\n",
        "    return train_half, test_half"
      ]
    },
    {
      "cell_type": "code",
      "execution_count": null,
      "metadata": {
        "execution": {
          "iopub.execute_input": "2024-02-15T21:27:14.28953Z",
          "iopub.status.busy": "2024-02-15T21:27:14.28859Z",
          "iopub.status.idle": "2024-02-15T21:27:27.328803Z",
          "shell.execute_reply": "2024-02-15T21:27:27.327599Z",
          "shell.execute_reply.started": "2024-02-15T21:27:14.289494Z"
        },
        "id": "J8VjCbprrbww",
        "trusted": true
      },
      "outputs": [],
      "source": [
        "train_half, test_half = split_data_half_per_label(train)\n",
        "train_half.to_csv(\"train_halfImages.csv\", index=False)\n",
        "test_half.to_csv(\"test_halfImages.csv\", index=False)"
      ]
    },
    {
      "cell_type": "code",
      "execution_count": null,
      "metadata": {
        "execution": {
          "iopub.execute_input": "2024-02-15T21:27:34.464224Z",
          "iopub.status.busy": "2024-02-15T21:27:34.463846Z",
          "iopub.status.idle": "2024-02-15T21:27:50.189872Z",
          "shell.execute_reply": "2024-02-15T21:27:50.188803Z",
          "shell.execute_reply.started": "2024-02-15T21:27:34.464196Z"
        },
        "id": "ffbUzNJQrbww",
        "outputId": "45900106-c110-4b8b-d3e9-789e1baa43ec",
        "trusted": true
      },
      "outputs": [
        {
          "name": "stdout",
          "output_type": "stream",
          "text": [
            "Training Accuracy = 100.00%\n",
            "Test Accuracy = 95.96%\n"
          ]
        }
      ],
      "source": [
        "scaler = MinMaxScaler()\n",
        "\n",
        "# separate labels from features, and apply scaling\n",
        "labels_half = train_half.pop('label')\n",
        "train_half_scaled = scaler.fit_transform(train_half)\n",
        "test_half_scaled = scaler.transform(test_half.drop('label', axis=1))\n",
        "\n",
        "model = RandomForestClassifier()  # build our model\n",
        "model.fit(train_half_scaled, labels_half)  # train our model\n",
        "\n",
        "# For training set predictions\n",
        "y_train_pred = model.predict(train_half_scaled)\n",
        "train_accuracy = accuracy_score(labels_half, y_train_pred)\n",
        "\n",
        "# For test set predictions, ensure to separate labels for test_half dataset\n",
        "test_labels = test_half['label']\n",
        "y_test_pred = model.predict(test_half_scaled)\n",
        "test_accuracy = accuracy_score(test_labels, y_test_pred)\n",
        "\n",
        "print(f\"Training Accuracy = {train_accuracy*100:.2f}%\")\n",
        "print(f\"Test Accuracy = {test_accuracy*100:.2f}%\")"
      ]
    },
    {
      "cell_type": "markdown",
      "metadata": {
        "id": "khe8ZQDNrbww"
      },
      "source": [
        "### <b>Interpretation of Results:</b>\n",
        "The given training and testing accuracy scores indicate that the model performed exceptionally well on both the training subset and the testing subset of the data, with training accuracy at 100.00% and testing accuracy around 96%. Here's a breakdown of why these accuracies are at their respective levels and what could be done to potentially achieve better results:\n",
        "\n",
        "<b>Training Accuracy: 100.00%</b>\n",
        "<ul>\n",
        "    <li>Overfitting: A training accuracy of 100% often suggests that the model has perfectly learned the training dataset, to the point where it may have memorized the training data rather than learned to generalize from it. This could indicate overfitting, especially if the model's performance on the test data is significantly worse.</li>\n",
        "    <li>Complexity of the Model: RandomForestClassifier is a robust model that can capture complex patterns in the data. Its high performance on the training set shows it was able to capture the nuances of the handwritten digit images perfectly.</li>\n",
        "</ul>\n",
        "\n",
        "<b>Test Accuracy: 95.96%</b>\n",
        "<ul>\n",
        "    <li>Generalization: The test accuracy is high, indicating that despite the potential overfitting to the training data, the model generalizes well to unseen data. This high accuracy is a testament to the effectiveness of RandomForestClassifier in handling complex classification tasks like digit recognition.</li>\n",
        "    <li>Room for Improvement: While 95.96% accuracy is impressive, the difference between training and testing accuracy suggests there might be room for improvement, especially in making the model generalize even better.</li>\n",
        "</ul>\n",
        "\n",
        "<b>Strategies for Improvement</b>\n",
        "<ul>\n",
        "    <li>Hyperparameter Tuning: Adjusting the RandomForestClassifier's hyperparameters (like n_estimators, max_depth, min_samples_split, and min_samples_leaf) could help in achieving a better balance between bias and variance, possibly improving test accuracy.</li>\n",
        "    <li>Cross-Validation: Using cross-validation techniques, such as k-fold cross-validation, helps in assessing the model's performance more accurately, leading to better estimation of its generalization error.</li>\n",
        "    <li>Feature Engineering: Exploring different feature extraction techniques, such as Principal Component Analysis (PCA) to reduce dimensionality while preserving variance, might improve model performance by focusing on the most informative aspects of the data.</li>\n",
        "</ul>"
      ]
    },
    {
      "cell_type": "markdown",
      "metadata": {
        "id": "cyDEvwGjrbwx"
      },
      "source": [
        "### Case 3: Using Half the Training/Testing Dataset Containing Only Digits 0 - 4"
      ]
    },
    {
      "cell_type": "code",
      "execution_count": null,
      "metadata": {
        "execution": {
          "iopub.execute_input": "2024-02-15T21:28:40.510982Z",
          "iopub.status.busy": "2024-02-15T21:28:40.510566Z",
          "iopub.status.idle": "2024-02-15T21:28:40.517294Z",
          "shell.execute_reply": "2024-02-15T21:28:40.516406Z",
          "shell.execute_reply.started": "2024-02-15T21:28:40.51094Z"
        },
        "id": "tig9LwJWrbwx",
        "trusted": true
      },
      "outputs": [],
      "source": [
        "def split_data_by_digit(df):\n",
        "    # Splitting the dataset based on digit labels\n",
        "    train_half_digits = df[df['label'].isin([0, 1, 2, 3, 4])]\n",
        "    test_half_digits = df[df['label'].isin([5, 6, 7, 8, 9])]\n",
        "    return train_half_digits, test_half_digits"
      ]
    },
    {
      "cell_type": "code",
      "execution_count": null,
      "metadata": {
        "execution": {
          "iopub.execute_input": "2024-02-15T21:28:43.49011Z",
          "iopub.status.busy": "2024-02-15T21:28:43.489743Z",
          "iopub.status.idle": "2024-02-15T21:28:55.871755Z",
          "shell.execute_reply": "2024-02-15T21:28:55.870761Z",
          "shell.execute_reply.started": "2024-02-15T21:28:43.490082Z"
        },
        "id": "C0xQKOUlrbwy",
        "trusted": true
      },
      "outputs": [],
      "source": [
        "train_half_digits, test_half_digits = split_data_by_digit(train)\n",
        "train_half_digits.to_csv(\"train_halfDigits.csv\", index=False)\n",
        "test_half_digits.to_csv(\"test_halfDigits.csv\", index=False)"
      ]
    },
    {
      "cell_type": "code",
      "execution_count": null,
      "metadata": {
        "execution": {
          "iopub.execute_input": "2024-02-15T21:29:00.003442Z",
          "iopub.status.busy": "2024-02-15T21:29:00.003065Z",
          "iopub.status.idle": "2024-02-15T21:29:15.030409Z",
          "shell.execute_reply": "2024-02-15T21:29:15.029336Z",
          "shell.execute_reply.started": "2024-02-15T21:29:00.003413Z"
        },
        "id": "oC9CInytrbwz",
        "outputId": "0d49211f-7316-4227-90f3-668ec1474870",
        "trusted": true
      },
      "outputs": [
        {
          "name": "stdout",
          "output_type": "stream",
          "text": [
            "Training Accuracy = 100.00%\n",
            "Test Accuracy = 0.00%\n"
          ]
        }
      ],
      "source": [
        "scaler = MinMaxScaler()\n",
        "\n",
        "# Separate labels from features, and apply scaling\n",
        "labels_half_digits = train_half_digits.pop('label')\n",
        "train_half_digits_scaled = scaler.fit_transform(train_half_digits)\n",
        "test_half_digits_scaled = scaler.transform(test_half_digits.drop('label', axis=1))\n",
        "\n",
        "model = RandomForestClassifier()  # build our model\n",
        "model.fit(train_half_digits_scaled, labels_half_digits)  # train our model\n",
        "\n",
        "# For training set predictions\n",
        "y_train_pred = model.predict(train_half_digits_scaled)\n",
        "train_accuracy = accuracy_score(labels_half_digits, y_train_pred)\n",
        "\n",
        "# For test set predictions, ensure to separate labels for test_half_digits dataset\n",
        "test_labels = test_half_digits['label']\n",
        "y_test_pred = model.predict(test_half_digits_scaled)\n",
        "test_accuracy = accuracy_score(test_labels, y_test_pred)\n",
        "\n",
        "print(f\"Training Accuracy = {train_accuracy*100:.2f}%\")\n",
        "print(f\"Test Accuracy = {test_accuracy*100:.2f}%\")"
      ]
    },
    {
      "cell_type": "markdown",
      "metadata": {
        "id": "qZN_wwHprbwz"
      },
      "source": [
        "### <b>Interpretation of Results</b>\n",
        "The training and testing accuracy results from Case 3 reveal a stark contrast: while the model achieves perfect accuracy on the training set (100.00%), it completely fails on the test set (0.00%). This outcome can be attributed to a fundamental issue with the model's training and testing setup, as well as insights into potential improvements.\n",
        "\n",
        "<b>Reasons for Low Test Accuracy</b>\n",
        "<ul>\n",
        "    <li>Lack of Generalization Across Unseen Classes: The model was trained exclusively on images of digits 0 through 4 and then tested on digits 5 through 9. Since the model has never seen examples of the latter digits during training, it lacks the necessary information to correctly classify them. This scenario is not a typical generalization problem within the same classes but rather a failure to recognize entirely unseen classes.</li>\n",
        "    <li>Model's Inability to Infer Unseen Classes: Machine learning models, particularly those without a mechanism for handling unseen classes (like most traditional classifiers), cannot infer classes they have not been trained on. The RandomForestClassifier used in this task operates under the assumption that all possible outcomes (in this case, digit classes) are represented in the training data.</li>\n",
        "</ul>\n",
        "\n",
        "<b>Strategies for Improvement</b>\n",
        "<ul>\n",
        "    <li>Semi-supervised Learning: This technique involves using a small amount of labeled data alongside a larger set of unlabeled data. It could potentially help the model learn better representations of the data, including those digits it has not been explicitly trained on.</li>\n",
        "    <li>One-shot Learning or Few-shot Learning: These approaches are particularly relevant in situations where very little data is available for some classes. By training a model to learn from very few examples, it might better handle the challenge of classifying unseen digits. This approach is more common with neural network models, especially those designed for tasks like facial recognition.</li>\n",
        "    <li>Adjusting Model Hyperparameters: Although unlikely to solve the fundamental issue of classifying unseen digits, experimenting with different hyperparameters (like the depth of the trees in RandomForest) could maximize the model's performance within the constraints of the given training data.</li>\n",
        "</ul>"
      ]
    }
  ],
  "metadata": {
    "colab": {
      "provenance": []
    },
    "kaggle": {
      "accelerator": "none",
      "dataSources": [
        {
          "databundleVersionId": 861823,
          "sourceId": 3004,
          "sourceType": "competition"
        }
      ],
      "dockerImageVersionId": 30646,
      "isGpuEnabled": false,
      "isInternetEnabled": true,
      "language": "python",
      "sourceType": "notebook"
    },
    "kernelspec": {
      "display_name": "Python 3",
      "language": "python",
      "name": "python3"
    },
    "language_info": {
      "codemirror_mode": {
        "name": "ipython",
        "version": 3
      },
      "file_extension": ".py",
      "mimetype": "text/x-python",
      "name": "python",
      "nbconvert_exporter": "python",
      "pygments_lexer": "ipython3",
      "version": "3.10.13"
    }
  },
  "nbformat": 4,
  "nbformat_minor": 0
}
